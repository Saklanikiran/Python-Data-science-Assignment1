{
 "cells": [
  {
   "cell_type": "code",
   "execution_count": 1,
   "id": "559f297b-9268-4131-a77b-97917a51fac9",
   "metadata": {},
   "outputs": [],
   "source": [
    "# Ans : 1\n",
    "name='Kiran'\n",
    "my_list=[1,2,3,4]\n",
    "salary=2250.50\n",
    "my_tuple=(1,2,3,4,5)\n"
   ]
  },
  {
   "cell_type": "code",
   "execution_count": 2,
   "id": "904608f1-fd67-4d6c-824a-ad5ccfaa4988",
   "metadata": {},
   "outputs": [
    {
     "name": "stdout",
     "output_type": "stream",
     "text": [
      "<class 'str'>\n",
      "<class 'str'>\n",
      "<class 'list'>\n",
      "<class 'float'>\n"
     ]
    }
   ],
   "source": [
    "# Ans : 2\n",
    "var1=''\n",
    "var2='[DS,ML,Python]'\n",
    "var3=['DS','ML','Python']\n",
    "var4=1.\n",
    "print(type(var1))\n",
    "print(type(var2))\n",
    "print(type(var3))\n",
    "print(type(var4))"
   ]
  },
  {
   "cell_type": "code",
   "execution_count": 3,
   "id": "0ad325f8-c220-4a28-bc87-d4b782c7df3c",
   "metadata": {},
   "outputs": [
    {
     "name": "stdout",
     "output_type": "stream",
     "text": [
      "2.0\n",
      "0\n",
      "2\n",
      "8\n"
     ]
    }
   ],
   "source": [
    "# Ans : 3\n",
    "# '/': this is a arithmetic division operator this is use for divide numeric value output is float vlaue\n",
    "# Example:\n",
    "a=10\n",
    "b=5\n",
    "c=a/b\n",
    "print(c)\n",
    "\n",
    "\n",
    "# '%': this is a arithmetic modulus operator this is use for get a remainder\n",
    "# Example:\n",
    "d=a%b\n",
    "print(d)\n",
    "\n",
    "# '//': this is a arithmetic floor divisor operator this is use for get a integer output\n",
    "# Example:\n",
    "e=a//b\n",
    "print(e)\n",
    "\n",
    "# '**': this is a arithmetic exponent  operator this is use for get a exponent of any value\n",
    "# Example:\n",
    "p=2\n",
    "print(p**3)\n"
   ]
  },
  {
   "cell_type": "code",
   "execution_count": 4,
   "id": "479d6e30",
   "metadata": {},
   "outputs": [
    {
     "name": "stdout",
     "output_type": "stream",
     "text": [
      "Kiran\n",
      "True\n",
      "23\n",
      "B.tech\n",
      "Data science\n",
      "7\n",
      "Haldwani\n",
      "Mango\n",
      "30.23\n",
      "False\n"
     ]
    }
   ],
   "source": [
    "# Ans : 4\n",
    "my_list=['Kiran',True,23,\"B.tech\",\"Data science\",7,\"Haldwani\",\"Mango\",30.23,False]\n",
    "for i in range(10):\n",
    "    print(my_list[i])"
   ]
  },
  {
   "cell_type": "code",
   "execution_count": 1,
   "id": "e4bc7482-13be-4d90-a597-993ee1753687",
   "metadata": {},
   "outputs": [
    {
     "name": "stdin",
     "output_type": "stream",
     "text": [
      "enter a number 5\n"
     ]
    },
    {
     "name": "stdout",
     "output_type": "stream",
     "text": [
      "A is not purely divisible by B\n"
     ]
    }
   ],
   "source": [
    "# Ans : 5\n",
    "A=int(input(\"enter a number\"))\n",
    "count=0\n",
    "B=2\n",
    "while B<A:\n",
    "    if(A%B==0):\n",
    "        count=count+1\n",
    "    B=B+1\n",
    "    \n",
    "if(count>0):\n",
    "    print(\"A is purely devisible by B at \",count,\" times\")\n",
    "    \n",
    "else:\n",
    "    print(\"A is not purely divisible by B\")"
   ]
  },
  {
   "cell_type": "code",
   "execution_count": 2,
   "id": "eb47832a-ce5e-4c33-8aea-86b208e89af5",
   "metadata": {},
   "outputs": [
    {
     "name": "stdout",
     "output_type": "stream",
     "text": [
      "0  is divisible by 3\n",
      "1  is not divisible by 3\n",
      "2  is not divisible by 3\n",
      "3  is divisible by 3\n",
      "4  is not divisible by 3\n",
      "5  is not divisible by 3\n",
      "6  is divisible by 3\n",
      "7  is not divisible by 3\n",
      "8  is not divisible by 3\n",
      "9  is divisible by 3\n",
      "10  is not divisible by 3\n",
      "11  is not divisible by 3\n",
      "12  is divisible by 3\n",
      "13  is not divisible by 3\n",
      "14  is not divisible by 3\n",
      "15  is divisible by 3\n",
      "16  is not divisible by 3\n",
      "17  is not divisible by 3\n",
      "18  is divisible by 3\n",
      "19  is not divisible by 3\n",
      "20  is not divisible by 3\n",
      "21  is divisible by 3\n",
      "22  is not divisible by 3\n",
      "23  is not divisible by 3\n",
      "24  is divisible by 3\n"
     ]
    }
   ],
   "source": [
    " # Ans : 6\n",
    "my_list=[0,1,2,3,4,5,6,7,8,9,10,11,12,13,14,15,16,17,18,19,20,21,22,23,24]\n",
    "for i in my_list:\n",
    "    if my_list[i]%3==0:\n",
    "        print(my_list[i],\" is divisible by 3\")\n",
    "    else:\n",
    "        print(my_list[i],\" is not divisible by 3\")\n"
   ]
  },
  {
   "cell_type": "code",
   "execution_count": null,
   "id": "318ad15f-514b-4a3a-8d1f-d90e0b4c5ad1",
   "metadata": {},
   "outputs": [],
   "source": [
    "# Ans : 7\n",
    "# Mutable object: An object is called a mutable object if we can reassign a value in any index\n",
    "# Example: list is a mutable object\n",
    "my_list=[1,2,4]\n",
    "my_list[0]='Kiran'\n",
    "print(my_list)\n",
    "\n",
    "# Immutable object: An object is called a immutable object if we can't reassign a vlue in any index\n",
    "# Examle: String is a immutable object\n",
    "name='Heena'\n",
    "name[0]='T'\n",
    "print(name)"
   ]
  }
 ],
 "metadata": {
  "kernelspec": {
   "display_name": "Python 3 (ipykernel)",
   "language": "python",
   "name": "python3"
  },
  "language_info": {
   "codemirror_mode": {
    "name": "ipython",
    "version": 3
   },
   "file_extension": ".py",
   "mimetype": "text/x-python",
   "name": "python",
   "nbconvert_exporter": "python",
   "pygments_lexer": "ipython3",
   "version": "3.10.8"
  }
 },
 "nbformat": 4,
 "nbformat_minor": 5
}
